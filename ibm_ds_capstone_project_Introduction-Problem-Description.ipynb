{
 "cells": [
  {
   "cell_type": "markdown",
   "metadata": {},
   "source": [
    "# A project to identify suitable location(s) for constructing warehouse (Recommender System)"
   ]
  },
  {
   "cell_type": "markdown",
   "metadata": {},
   "source": [
    "## Part 1:- Problem Description\n",
    "## ----------------------------------------\n",
    "### This project tries to help  a contractor based in Toronto who regularly supply raw materials ( food ingredients and other related items) to 'hotels & restaurants'.   \n",
    "\n",
    "### The contractor usually source most of his supplies from local 'farmers & producers' and send it across to the 'hotels & restaurants' who are his customers. His main business objective is 'good quality raw materials and timely delivery'. To achieve this he needs to have a good warehouse on a right location which is close both to 'farmers & producers' and to his customers. A good warehouse at the right location can keep the items fresh and also can help to achieve speedy & timely delivery.  As his  suppliers (farmers & producers) and customers are mostly from the same area, the warehouses can be built on each clusters giving more thrust to customers and hence at each customer cluster.\n",
    "\n",
    "### Hence we tries to develop a recommender system with\n",
    "\n",
    "### 1. Sorted list of neighbourhood inorder to minimize the cost of transportation\n",
    "### 2. A neighborhood the contracor can have his warehouse.\n",
    "### 3. Some other useful findings on data analysis\n"
   ]
  },
  {
   "cell_type": "code",
   "execution_count": null,
   "metadata": {},
   "outputs": [],
   "source": []
  }
 ],
 "metadata": {
  "kernelspec": {
   "display_name": "Python 3",
   "language": "python",
   "name": "python3"
  },
  "language_info": {
   "codemirror_mode": {
    "name": "ipython",
    "version": 3
   },
   "file_extension": ".py",
   "mimetype": "text/x-python",
   "name": "python",
   "nbconvert_exporter": "python",
   "pygments_lexer": "ipython3",
   "version": "3.7.0"
  }
 },
 "nbformat": 4,
 "nbformat_minor": 1
}
