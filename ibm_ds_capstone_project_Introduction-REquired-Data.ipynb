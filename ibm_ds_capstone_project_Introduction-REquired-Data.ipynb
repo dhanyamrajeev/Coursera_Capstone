{
 "cells": [
  {
   "cell_type": "markdown",
   "metadata": {},
   "source": [
    "# A project to identify suitable location(s) for constructing warehouse (Recommender System)"
   ]
  },
  {
   "cell_type": "markdown",
   "metadata": {},
   "source": [
    "## Part 2: Required Data\n",
    "## ------------------------------\n",
    "\n",
    "### 1- The project needs geo-locational information about the specific borough/town and the neighborhoods of the contractor's choice. For example, \"Scarborough\". We have the borough details with postal codes and the details of the neighbourhoods of the corresponding borough/town.  The borough details include its latitude and longitude information.\n",
    "\n",
    "### 2- The project also requires venues in the different neighbourhoods of that specific borough. Location data provider - 'Foursquare' can help in this regard. 'Foursquare' can provide us with the location information like latitude, longitude and distance from the center of the neighborhood to name a few. Other advanced information like venue category, popuarity, tips, price etc also can be provided by 'Foursquare'.\n",
    "\n",
    "### Our main data sources are, \n",
    "\n",
    "### - Borough/Town and Neighbourhood information as a csv file.\n",
    "### - Foursqure (Foursquare have different api's for developer community to provide with required data)\n",
    "### - Anything extra needed can be sourced as and when needed.\n",
    "\n"
   ]
  },
  {
   "cell_type": "code",
   "execution_count": null,
   "metadata": {},
   "outputs": [],
   "source": []
  }
 ],
 "metadata": {
  "kernelspec": {
   "display_name": "Python 3",
   "language": "python",
   "name": "python3"
  },
  "language_info": {
   "codemirror_mode": {
    "name": "ipython",
    "version": 3
   },
   "file_extension": ".py",
   "mimetype": "text/x-python",
   "name": "python",
   "nbconvert_exporter": "python",
   "pygments_lexer": "ipython3",
   "version": "3.7.0"
  }
 },
 "nbformat": 4,
 "nbformat_minor": 1
}
