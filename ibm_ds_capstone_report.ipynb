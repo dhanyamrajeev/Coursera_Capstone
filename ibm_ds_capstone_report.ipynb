{
 "cells": [
  {
   "cell_type": "markdown",
   "metadata": {},
   "source": [
    "# A project to identify suitable location(s) for constructing warehouse (Recommender System)\n",
    "***"
   ]
  },
  {
   "cell_type": "markdown",
   "metadata": {},
   "source": [
    "## Problem Description:-\n",
    "\n",
    "### This project tries to help  a contractor based in Toronto who regularly supply raw materials ( food ingredients and other related items) to 'hotels & restaurants'.   \n",
    "\n",
    "### The contractor usually source most of his supplies from local 'farmers & producers' and send it across to the 'hotels & restaurants' who are his customers. His main business objective is 'good quality raw materials and timely delivery'. To achieve this he needs to have a good warehouse on a right location which is close both to 'farmers & producers' and to his customers. A good warehouse at the right location can keep the items fresh and also can help to achieve speedy & timely delivery.  As his  suppliers (farmers & producers) and customers are mostly from the same area, the warehouses can be built on each clusters giving more thrust to customers and hence at each customer cluster.\n",
    "\n",
    "### Hence we tries to develop a recommender system with\n",
    "\n",
    "### 1. Sorted list of neighbourhood inorder to minimize the cost of transportation\n",
    "### 2. A neighborhood the contracor can have his warehouse.\n",
    "### 3. Some other useful findings on data analysis\n"
   ]
  },
  {
   "cell_type": "markdown",
   "metadata": {},
   "source": [
    "## Required Data:-\n",
    "\n",
    "### 1- The project needs geo-locational information about the specific borough/town and the neighborhoods of the contractor's choice. For example, \"Scarborough\". We have the borough details with postal codes and the details of the neighbourhoods of the corresponding borough/town.  The borough details include its latitude and longitude information.\n",
    "\n",
    "### 2- The project also requires venues in the different neighbourhoods of that specific borough. Location data provider - 'Foursquare' can help in this regard. 'Foursquare' can provide us with the location information like latitude, longitude and distance from the center of the neighborhood to name a few. Other advanced information like venue category, popuarity, tips, price etc also can be provided by 'Foursquare'.\n",
    "\n",
    "### Our main data sources are, \n",
    "\n",
    "### - Borough/Town and Neighbourhood information as a csv file.\n",
    "### - Foursqure (Foursquare have different api's for developer community to provide with required data)\n",
    "### - Anything extra needed can be sourced as and when needed.\n",
    "\n"
   ]
  },
  {
   "cell_type": "markdown",
   "metadata": {},
   "source": [
    "## Methodology:-"
   ]
  },
  {
   "cell_type": "markdown",
   "metadata": {},
   "source": [
    "## -) Selecting  'Scarborough' from 'Toronto' data and getting all neighborhood details that are belonging to 'Scarborough'.  \n",
    "## We have selected 'Toronto' as our city and from the many towns that 'Toronto' is having we are  going  to  focus  on 'Scarborough'.  With  us  we  are  having  a  CSV file having  all  the neighborhoods deatils  belonging  to   'Scarborough'.   We  have  collected  the above  said  details  from  the webpage  <https://en.wikipedia.org/wiki/List_of_postal_codes_of_Canada:_M>. The details are then transferred to a dataframe. To have visual understanding of the neighbourhood we made a map of the same.\n",
    " "
   ]
  },
  {
   "cell_type": "markdown",
   "metadata": {},
   "source": [
    "## -) 'Foursquare' is the data source for getting location data and using 'Foursquare' APIs we are retrieving location data. \n",
    "## As we need the details of all venues belonging to 'Scarborough' we use an appropriate API to collect the same from 'Foursquare'. We set the radius limit as 1000 meters. Having fixed that 'Foursquare' will supply us with the venues that  are within 1000 meter distance from the center point of the neigborhood."
   ]
  },
  {
   "cell_type": "markdown",
   "metadata": {},
   "source": [
    "## -) Processing the collected data and generating a dataframe of all the venues inside the 'Scarborough'.\n",
    "## After collecting required data from different sources, we have to clean the data and make it ready for applying suitable machine learning algorithm. We have to find desirable features of each venue. We decide category of the venue as the main feature. Then the venue's category is One-hot encoded. After One-hot encoding we are integrating all restaurant columns to one column \"Total Restaurants\" and all food joint columns to \"Total Joints\" column, leave the rest columns as it is. Further, we assume that all restaurants use mainly the same raw meterials. Hence the datset is ready for further analysis using a suitable machine learning algorithms."
   ]
  },
  {
   "cell_type": "markdown",
   "metadata": {},
   "source": [
    "## -) We decide K-Means Clustering as our Machine Learning  algorithm for further analysis.\n",
    "## We decide to create 5 clusters of neighborhoods using K-means clustering method. After clustering the neighborhoods we will update our dataset and create a column representing  the group for each neighborhood.  "
   ]
  },
  {
   "cell_type": "markdown",
   "metadata": {},
   "source": [
    "## Decision Making and Reporting Results:-\n",
    "***\n",
    "## We focus on the centers of clusters and we compare them for their \"Total Restaurants\" and  \"Total Joints\" columns. The group with its center has the highest \"Total Sum\" will be our best recommendation.\n",
    "\n",
    "\n",
    "## Hence the Results & Findings will be as follows\n",
    "***\n",
    "## Based on this analysis, the best recommended neighborhood is,\n",
    "## 'Neighborhood': 'Agincourt',\n",
    "## 'Postal Code': 'M1S',\n",
    "## 'Neighborhood Latitude': 43.7942003,\n",
    "## 'Neighborhood Longitude': -79.26202940000002}\n"
   ]
  },
  {
   "cell_type": "code",
   "execution_count": null,
   "metadata": {},
   "outputs": [],
   "source": []
  },
  {
   "cell_type": "code",
   "execution_count": null,
   "metadata": {},
   "outputs": [],
   "source": []
  }
 ],
 "metadata": {
  "kernelspec": {
   "display_name": "Python 3",
   "language": "python",
   "name": "python3"
  },
  "language_info": {
   "codemirror_mode": {
    "name": "ipython",
    "version": 3
   },
   "file_extension": ".py",
   "mimetype": "text/x-python",
   "name": "python",
   "nbconvert_exporter": "python",
   "pygments_lexer": "ipython3",
   "version": "3.7.0"
  }
 },
 "nbformat": 4,
 "nbformat_minor": 2
}
